{
 "cells": [
  {
   "cell_type": "markdown",
   "metadata": {},
   "source": [
    "# Matrisuträkning"
   ]
  },
  {
   "cell_type": "markdown",
   "metadata": {},
   "source": [
    "## Matrisprodukt"
   ]
  },
  {
   "cell_type": "markdown",
   "metadata": {},
   "source": [
    "Givet matriserna $A = \\begin{bmatrix} 1 & 2 \\\\ 0 & -1 \\end{bmatrix}$ och $B = \\begin{bmatrix} 3 & 0 \\\\ -2 & 1 \\end{bmatrix}$ får vi att $AB = \\begin{bmatrix} 1 & 2 \\\\ 0 & -1 \\end{bmatrix} \\begin{bmatrix} 3 & 0 \\\\ -2 & 1 \\end{bmatrix} = \\begin{bmatrix} 1 \\cdot 3 + 2 \\cdot (-2) & 1 \\cdot 0 + 2 \\cdot 1 \\\\ 0 \\cdot 3 + (-1) \\cdot (-2) & 0 \\cdot 0 + (-1) \\cdot 1 \\end{bmatrix} = \\begin{bmatrix} -1 & 2 \\\\ 2 & -1 \\end{bmatrix}$"
   ]
  },
  {
   "cell_type": "markdown",
   "metadata": {},
   "source": []
  }
 ],
 "metadata": {
  "language_info": {
   "name": "python"
  }
 },
 "nbformat": 4,
 "nbformat_minor": 2
}
